{
  "nbformat": 4,
  "nbformat_minor": 0,
  "metadata": {
    "colab": {
      "name": "dataset_twitterFarsi.ipynb",
      "provenance": [],
      "collapsed_sections": []
    },
    "kernelspec": {
      "display_name": "Python 3",
      "language": "python",
      "name": "python3"
    },
    "language_info": {
      "codemirror_mode": {
        "name": "ipython",
        "version": 3
      },
      "file_extension": ".py",
      "mimetype": "text/x-python",
      "name": "python",
      "nbconvert_exporter": "python",
      "pygments_lexer": "ipython3",
      "version": "3.7.4"
    },
    "accelerator": "TPU"
  },
  "cells": [
    {
      "cell_type": "markdown",
      "metadata": {
        "colab_type": "text",
        "id": "Dm_OsfGXGUQE"
      },
      "source": [
        "# Clean twitter farsi datase\n",
        "### by maryam babaei\n",
        "\n",
        "\n"
      ]
    },
    {
      "cell_type": "code",
      "metadata": {
        "id": "BwSLp2J9xO3Q",
        "colab_type": "code",
        "colab": {
          "base_uri": "https://localhost:8080/",
          "height": 54
        },
        "outputId": "89e79ce0-26c4-44e2-b2d0-816e5e926e5d"
      },
      "source": [
        "from google.colab import drive\n",
        "drive.mount('/content/drive')"
      ],
      "execution_count": 1,
      "outputs": [
        {
          "output_type": "stream",
          "text": [
            "Drive already mounted at /content/drive; to attempt to forcibly remount, call drive.mount(\"/content/drive\", force_remount=True).\n"
          ],
          "name": "stdout"
        }
      ]
    },
    {
      "cell_type": "markdown",
      "metadata": {
        "colab_type": "text",
        "id": "_8jpzxaHGYXH"
      },
      "source": [
        "### read file"
      ]
    },
    {
      "cell_type": "code",
      "metadata": {
        "colab_type": "code",
        "id": "DacKBKkPak7t",
        "colab": {}
      },
      "source": [
        "import zipfile\n",
        "with zipfile.ZipFile('/content/drive/My Drive/twitter_sample_tweets.csv.zip', 'r') as zip_ref:\n",
        "    zip_ref.extractall('./twiter_data')"
      ],
      "execution_count": 2,
      "outputs": []
    },
    {
      "cell_type": "code",
      "metadata": {
        "colab_type": "code",
        "id": "LWSnu75YbC2z",
        "colab": {}
      },
      "source": [
        "import numpy as np\n",
        "f = open(\"./twiter_data/twitter_sample_tweets.csv\", \"r\")\n",
        "X_train = f.readlines()\n",
        "X=X_train[:1000000]"
      ],
      "execution_count": 3,
      "outputs": []
    },
    {
      "cell_type": "code",
      "metadata": {
        "id": "GNLQ2ilNzO7g",
        "colab_type": "code",
        "colab": {}
      },
      "source": [
        "with open(\"/content/drive/My Drive/y.csv\", \"w\") as output:\n",
        "      for row in X:\n",
        "        output.write(str(row))\n",
        "    #output.write(str(X))"
      ],
      "execution_count": 4,
      "outputs": []
    },
    {
      "cell_type": "code",
      "metadata": {
        "id": "kCvppd1s2PFQ",
        "colab_type": "code",
        "colab": {}
      },
      "source": [
        "f = open(\"/content/drive/My Drive/y.csv\", \"r\")\n",
        "X_train2 = f.readlines()"
      ],
      "execution_count": 5,
      "outputs": []
    },
    {
      "cell_type": "markdown",
      "metadata": {
        "colab_type": "text",
        "id": "CPqd-e9LG1VY"
      },
      "source": [
        "### check dataset for cleaning\n",
        "#### -we just keep data with 8 colunms to calculate better\n",
        "#### -as we see main part of data is in second column"
      ]
    },
    {
      "cell_type": "code",
      "metadata": {
        "id": "_mv1nFUM2b0L",
        "colab_type": "code",
        "colab": {
          "base_uri": "https://localhost:8080/",
          "height": 34
        },
        "outputId": "66cba905-ddb6-4651-c2f9-70792256d058"
      },
      "source": [
        "len(X_train2)"
      ],
      "execution_count": 6,
      "outputs": [
        {
          "output_type": "execute_result",
          "data": {
            "text/plain": [
              "1000000"
            ]
          },
          "metadata": {
            "tags": []
          },
          "execution_count": 6
        }
      ]
    },
    {
      "cell_type": "code",
      "metadata": {
        "id": "-iKMXelb_T_B",
        "colab_type": "code",
        "colab": {
          "base_uri": "https://localhost:8080/",
          "height": 52
        },
        "outputId": "a3a98426-ca7c-4536-f306-e6fd285c7a15"
      },
      "source": [
        "X_train2[1]"
      ],
      "execution_count": 7,
      "outputs": [
        {
          "output_type": "execute_result",
          "data": {
            "application/vnd.google.colaboratory.intrinsic": {
              "type": "string"
            },
            "text/plain": [
              "'\"2019-02-01 00:00:00\",\"RT : بنر تصاویر دیکتاتور توسط #کانونهای_شورشی به آتش کشیده شد.#مجاهدین \",163,0,1,1589,981,31282\\n'"
            ]
          },
          "metadata": {
            "tags": []
          },
          "execution_count": 7
        }
      ]
    },
    {
      "cell_type": "code",
      "metadata": {
        "colab_type": "code",
        "id": "iYVIhj64bM_m",
        "colab": {
          "base_uri": "https://localhost:8080/",
          "height": 377
        },
        "outputId": "bfe3bba0-b3ed-456f-a5b2-7be8cc021068"
      },
      "source": [
        "from itertools import islice\n",
        "for row in islice(X_train2, 10):\n",
        "  print(row)"
      ],
      "execution_count": 8,
      "outputs": [
        {
          "output_type": "stream",
          "text": [
            "\"2019-02-01 00:00:00\",\"RT : به نظر شما وقتی #جرمی_هانت وزیر امورخارجه بریتانیا ، برای آزادی #نازنین_زاغری اینقدر تقلا و پروپاگاندا می کند، در حال ارسا…\",981,0,0,144,220,184\n",
            "\n",
            "\"2019-02-01 00:00:00\",\"RT : بنر تصاویر دیکتاتور توسط #کانونهای_شورشی به آتش کشیده شد.#مجاهدین \",163,0,1,1589,981,31282\n",
            "\n",
            "\"2019-02-01 00:00:00\",\"RT : مشهد به واسطه وجود حرم مطهر امام رضا(ع) و تولیتش، پتانسیل کم‌نظیری دارد که بعد از تهران این شهر را به دومین شهر مستعد در شب…\",60,0,2,380,418,3614\n",
            "\n",
            "\"2019-02-01 00:00:00\",\" عاخه تو مغزشون کردن هرکسی که مثلا از نظام انتقاد کنه یا خلافش حرفی بزنه با سعودی و آمریکاست. همینقدر پرت و متعصبن.\",0,1,3,466,708,5421\n",
            "\n",
            "\"2019-02-01 00:00:00\",\"  نرم باشه لطفاً.\",0,2,4,381,755,4084\n",
            "\n",
            "\"2019-02-01 00:00:00\",\" ولي پولشو ميداد راضي تر بودم 😂\",0,1,5,23,46,406\n",
            "\n",
            "\"2019-02-01 00:00:00\",\"بونگ بونگ بونگ بونگ بونگ بونگ بونگ بونگ بونگ بونگ بونگ بونگ\",0,0,6,11532,5,67972\n",
            "\n",
            "\"2019-02-01 00:00:00\",\" :))))))))))))))))) نیست؟؟؟\",0,1,7,130,154,843\n",
            "\n",
            "\"2019-01-31 23:59:59\",\" از ساعت ۱۲-۱ به بعد هم اساسی فرو میکنه 🚶🏻‍♂️🚬\",0,3,8,353,135,292\n",
            "\n",
            "\"2019-01-31 23:59:59\",\"ولی خودمونیم هیچی اون قر ریزای همراه آهنگ که افقی بصورت خوابیده توی تخت اتفاق میفته نمی‌شه\",0,14,9,826,348,14370\n",
            "\n"
          ],
          "name": "stdout"
        }
      ]
    },
    {
      "cell_type": "code",
      "metadata": {
        "colab_type": "code",
        "id": "qnEc2MgHbRHy",
        "colab": {
          "base_uri": "https://localhost:8080/",
          "height": 54
        },
        "outputId": "94c359d5-9fe3-47d7-8d83-c62bd018dd28"
      },
      "source": [
        "import pandas as pd\n",
        "data = []\n",
        "\n",
        "for i, line in enumerate(X_train2):\n",
        "    data.append(line.split(','))\n",
        "f.close()\n",
        "a =list()\n",
        "for i in range(len(data)):\n",
        "  if len(data[i])==8:\n",
        "    a.append(data[i])\n",
        "\n",
        "print(a[10])"
      ],
      "execution_count": 9,
      "outputs": [
        {
          "output_type": "stream",
          "text": [
            "['\"2019-01-31 23:59:59\"', '\"RT : پیام شادباش نوروزی شاهزاده رضا پهلوی - ۱۳۹۴ \"', '12', '0', '10', '481', '4998', '4875\\n']\n"
          ],
          "name": "stdout"
        }
      ]
    },
    {
      "cell_type": "code",
      "metadata": {
        "colab_type": "code",
        "id": "9QVdBa3IbcNT",
        "colab": {
          "base_uri": "https://localhost:8080/",
          "height": 34
        },
        "outputId": "7b1190f8-5437-456a-e915-1bd4258d9baf"
      },
      "source": [
        "print(a[10][1])"
      ],
      "execution_count": 10,
      "outputs": [
        {
          "output_type": "stream",
          "text": [
            "\"RT : پیام شادباش نوروزی شاهزاده رضا پهلوی - ۱۳۹۴ \"\n"
          ],
          "name": "stdout"
        }
      ]
    },
    {
      "cell_type": "code",
      "metadata": {
        "colab_type": "code",
        "id": "7QP1vJ9gbiz0",
        "colab": {
          "base_uri": "https://localhost:8080/",
          "height": 34
        },
        "outputId": "d2292a76-660d-4c08-f1f2-c8418d7b981c"
      },
      "source": [
        "len(a)"
      ],
      "execution_count": 11,
      "outputs": [
        {
          "output_type": "execute_result",
          "data": {
            "text/plain": [
              "999925"
            ]
          },
          "metadata": {
            "tags": []
          },
          "execution_count": 11
        }
      ]
    },
    {
      "cell_type": "markdown",
      "metadata": {
        "colab_type": "text",
        "id": "clTxgG_DG_cp"
      },
      "source": [
        "### remove other colunms"
      ]
    },
    {
      "cell_type": "code",
      "metadata": {
        "colab_type": "code",
        "id": "wVxKQw0hbl6j",
        "colab": {
          "base_uri": "https://localhost:8080/",
          "height": 35
        },
        "outputId": "57db1ab3-54fc-49c9-f621-9c26ca66fe5b"
      },
      "source": [
        "traindata2=pd.DataFrame(a,columns=['col1','col2','3','4','5','6','7','8'])\n",
        "traindata=traindata2.loc[:]['col2']\n",
        "type(traindata)\n",
        "traindata[10]"
      ],
      "execution_count": 12,
      "outputs": [
        {
          "output_type": "execute_result",
          "data": {
            "application/vnd.google.colaboratory.intrinsic": {
              "type": "string"
            },
            "text/plain": [
              "'\"RT : پیام شادباش نوروزی شاهزاده رضا پهلوی - ۱۳۹۴ \"'"
            ]
          },
          "metadata": {
            "tags": []
          },
          "execution_count": 12
        }
      ]
    },
    {
      "cell_type": "markdown",
      "metadata": {
        "colab_type": "text",
        "id": "E1_u5SrDHHVX"
      },
      "source": [
        "### use re library to clean data and keep persian words"
      ]
    },
    {
      "cell_type": "code",
      "metadata": {
        "colab_type": "code",
        "id": "gq_vMFGVbrQU",
        "colab": {}
      },
      "source": [
        "#!pip install hazm\n",
        "#from __future__ import unicode_literals\n",
        "#from hazm import *\n",
        "#normalizer = Normalizer()\n",
        "#for t in range (len(traindata)):\n",
        "#    traindata[t]=normalizer.normalize(traindata[t])"
      ],
      "execution_count": 13,
      "outputs": []
    },
    {
      "cell_type": "code",
      "metadata": {
        "colab_type": "code",
        "id": "AgKtVOYEbx9h",
        "colab": {}
      },
      "source": [
        "#from hazm import word_tokenize, Normalizer\n",
        "import re\n",
        "reviews_ints = []\n",
        "for t in range (len(traindata)):\n",
        "    text = traindata[t]\n",
        "    #text = text.replace('\\u200c',' ')\n",
        "    #text = text.replace('..',' ')\n",
        "    #text = text.replace('RT',' ')\n",
        "    text = re.sub(r'[^آ-ی۰-۹ ]', ' ', text)\n",
        "    text = text.strip()\n",
        "    traindata[t]=text\n",
        "    #normalized_text = normalizer.normalize(text)\n",
        "    #tokens = word_tokenize(normalized_text)"
      ],
      "execution_count": 14,
      "outputs": []
    },
    {
      "cell_type": "code",
      "metadata": {
        "colab_type": "code",
        "id": "e287lI58b03H",
        "colab": {
          "base_uri": "https://localhost:8080/",
          "height": 52
        },
        "outputId": "8e3401ec-c85e-477a-dfeb-591f1341871d"
      },
      "source": [
        "traindata[13]"
      ],
      "execution_count": 15,
      "outputs": [
        {
          "output_type": "execute_result",
          "data": {
            "application/vnd.google.colaboratory.intrinsic": {
              "type": "string"
            },
            "text/plain": [
              "'باخ اوغلوم وسایله قیمت  اینسانلارا دَیَر وئریلیر قیمتی اولمایان وسیله یه زیبیل  دَیَری اولمایان اینسانا گئدرکن قاپینی اؤرت دئییلیر'"
            ]
          },
          "metadata": {
            "tags": []
          },
          "execution_count": 15
        }
      ]
    },
    {
      "cell_type": "code",
      "metadata": {
        "id": "EqyOzsO6HDpq",
        "colab_type": "code",
        "colab": {}
      },
      "source": [
        "t=list\n",
        "t=traindata"
      ],
      "execution_count": 16,
      "outputs": []
    },
    {
      "cell_type": "code",
      "metadata": {
        "id": "-7DzvxRjHQhZ",
        "colab_type": "code",
        "colab": {
          "base_uri": "https://localhost:8080/",
          "height": 34
        },
        "outputId": "399e4e67-3fd4-4386-e333-2c8ed2fa9be9"
      },
      "source": [
        "type(t)"
      ],
      "execution_count": 17,
      "outputs": [
        {
          "output_type": "execute_result",
          "data": {
            "text/plain": [
              "pandas.core.series.Series"
            ]
          },
          "metadata": {
            "tags": []
          },
          "execution_count": 17
        }
      ]
    },
    {
      "cell_type": "code",
      "metadata": {
        "id": "Hl4S7tuNYWLr",
        "colab_type": "code",
        "colab": {
          "base_uri": "https://localhost:8080/",
          "height": 34
        },
        "outputId": "766f3b7c-fee0-48c9-e744-d961afa683ae"
      },
      "source": [
        "len(t)"
      ],
      "execution_count": 35,
      "outputs": [
        {
          "output_type": "execute_result",
          "data": {
            "text/plain": [
              "999925"
            ]
          },
          "metadata": {
            "tags": []
          },
          "execution_count": 35
        }
      ]
    },
    {
      "cell_type": "code",
      "metadata": {
        "id": "9XBLOF4pJ3wN",
        "colab_type": "code",
        "colab": {}
      },
      "source": [
        "t.to_csv('/content/drive/My Drive/x.csv')"
      ],
      "execution_count": 41,
      "outputs": []
    },
    {
      "cell_type": "code",
      "metadata": {
        "id": "yD4PIBpHFut0",
        "colab_type": "code",
        "colab": {}
      },
      "source": [
        "f = open(\"/content/drive/My Drive/x.csv\", \"r\")\n",
        "df = f.readlines()"
      ],
      "execution_count": 42,
      "outputs": []
    },
    {
      "cell_type": "code",
      "metadata": {
        "id": "qEzv7Rd6FyQB",
        "colab_type": "code",
        "colab": {
          "base_uri": "https://localhost:8080/",
          "height": 34
        },
        "outputId": "2b1c56fe-659c-4b79-9998-4e6401e986db"
      },
      "source": [
        "len(df)"
      ],
      "execution_count": 43,
      "outputs": [
        {
          "output_type": "execute_result",
          "data": {
            "text/plain": [
              "999926"
            ]
          },
          "metadata": {
            "tags": []
          },
          "execution_count": 43
        }
      ]
    }
  ]
}